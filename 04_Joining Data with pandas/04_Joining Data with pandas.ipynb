{
 "cells": [
  {
   "cell_type": "markdown",
   "metadata": {},
   "source": [
    "# MERGING"
   ]
  },
  {
   "cell_type": "markdown",
   "metadata": {},
   "source": [
    "**1)** <code>.merge()</code> Tabloları birleştiren metot. \n",
    "* <code>on</code> İki tablodan birleştirilecek ortak sütunu seçen argüman.\n",
    "* <code>suffixes</code> Son ekleri yerleştiren argüman. \n",
    "* <code>how</code> Birleştirmenin hangi yönde olacağını belirleyen argüman. (Default olarak \"inner\". \"left\", \"right\" ve \"outer\" olabilir.) \n",
    "* <code>left_on</code> Farklı isimli ortak sütun için kullanılan argüman (sol tablo). \n",
    "* <code>right_on</code> Farklı isimli ortak sütun için kullanılan argüman (sağ tablo).\n",
    "* <code>indicator=<b>True</b></code> Tablodaki sütunun hangi tablodan veya tablolardan geldiğini belirten argüman.\n",
    "* <code>left_index=<b>True</b></code> Indexleri birleştirilecek tabloların index isimleri farklı ise kullanılan argüman. \n",
    "* <code>right_index=<b>True</b></code> Indexleri birleştirilecek tabloların index isimleri farklı ise kullanılan argüman"
   ]
  },
  {
   "cell_type": "code",
   "execution_count": null,
   "metadata": {},
   "outputs": [],
   "source": [
    "data_1.merge(data_2, on = [\"column_1\", \"column_2\"], suffixes = (\"_da1\", \"_da2\"), how = \"inner\")"
   ]
  },
  {
   "cell_type": "markdown",
   "metadata": {},
   "source": [
    "# CONCATENATING"
   ]
  },
  {
   "cell_type": "markdown",
   "metadata": {},
   "source": [
    "**2)** <code>pd.concat()</code> Tabloları dikey ve yatay birleştirmede kullanılan metot.\n",
    "* <code>sort=<b>True</b></code> Sütunları alfabetik olarak sıralayan argüman.\n",
    "* <code>ignore_index=<b>True</b></code> Dikey birleştirmede indexleri normalleştiren argüman.\n",
    "* <code>join=<b>\"inner\"</b></code> Yalnızca tamamen eşleşen sütunları getiren argüman. \n",
    "* <code>keys</code> Hangi satırların hangi tablodan geldiğini belirten argüman (ignore_index kullanılmaz).\n",
    "* <code>verify_integrity=<b>True</b></code> Birleşme sonunda satır yinelemesi olup olmadığını kontrol eder."
   ]
  },
  {
   "cell_type": "code",
   "execution_count": null,
   "metadata": {},
   "outputs": [],
   "source": [
    "pd.concat(data_1, data_2)"
   ]
  },
  {
   "cell_type": "markdown",
   "metadata": {},
   "source": [
    "**3)** <code>.append()</code> <code>.concat</code> metodunun daha basit halidir. <code>ignore_index</code> ve <code>sort</code> kullanılır. <code>keys</code> ve <code>join</code> kullanılmaz."
   ]
  },
  {
   "cell_type": "code",
   "execution_count": null,
   "metadata": {},
   "outputs": [],
   "source": [
    "data_1.append(data_2)"
   ]
  },
  {
   "cell_type": "markdown",
   "metadata": {},
   "source": [
    "# OTHERS"
   ]
  },
  {
   "cell_type": "markdown",
   "metadata": {},
   "source": [
    "**4)** <code>pd.merge_ordered()</code> Zaman serilerini ve diğer sıralı verileri birleştirmeye yarayan metot. (\"outer\" olarak birleşir.) <code>.merge()</code> argümanları kullanılabilir.\n",
    "* <code>fill_method=<b>\"ffill\"</b></code> Eksik değerleri önceki değerler ile doldurmayı sağlayan argüman."
   ]
  },
  {
   "cell_type": "markdown",
   "metadata": {},
   "source": [
    "**5)** <code>.merge_asof()</code> Sıralı bir left joine benzeyen metot. \n",
    "* <code>direction</code> Eksik değer doldurmaya yarayan argüman. **\"forward\"** ileriye dönük, **\"nearest\"** en yakın doldurma yapar."
   ]
  },
  {
   "cell_type": "markdown",
   "metadata": {},
   "source": [
    "**6)** <code>.query()</code> Tablodan koşullu ifade ile veri seçmeye yarar."
   ]
  },
  {
   "cell_type": "code",
   "execution_count": null,
   "metadata": {},
   "outputs": [],
   "source": [
    "data.query(\"values >= 70\")"
   ]
  },
  {
   "cell_type": "markdown",
   "metadata": {},
   "source": [
    "**7)** <code>.melt()</code> Tablodaki verileri geniş bir biçimden uzun bir biçime kavuşturur. Her özellik için bir satır oluşur. Bilgisayar dostudur.\n",
    "* <code>id_vars</code> Değişmek istenmeyen sütunların seçildiği argüman.\n",
    "* <code>value_vars</code> Değişmek istenen sütunların seçildiği argüman.\n",
    "* <code>var_name</code> Tablodaki değişken sütununun isminin seçildiği argüman.\n",
    "* <code>value_name</code> Tablodaki değer sütununun isminin seçildiği argüman."
   ]
  },
  {
   "cell_type": "code",
   "execution_count": null,
   "metadata": {},
   "outputs": [],
   "source": [
    "data.melt(id_vars, value_vars, var_name, value_name)"
   ]
  }
 ],
 "metadata": {
  "kernelspec": {
   "display_name": "Python 3",
   "language": "python",
   "name": "python3"
  },
  "language_info": {
   "codemirror_mode": {
    "name": "ipython",
    "version": 3
   },
   "file_extension": ".py",
   "mimetype": "text/x-python",
   "name": "python",
   "nbconvert_exporter": "python",
   "pygments_lexer": "ipython3",
   "version": "3.8.3"
  }
 },
 "nbformat": 4,
 "nbformat_minor": 4
}
